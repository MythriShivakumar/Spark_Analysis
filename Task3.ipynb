{
  "nbformat": 4,
  "nbformat_minor": 0,
  "metadata": {
    "colab": {
      "provenance": []
    },
    "kernelspec": {
      "name": "python3",
      "display_name": "Python 3"
    },
    "language_info": {
      "name": "python"
    }
  },
  "cells": [
    {
      "cell_type": "code",
      "execution_count": null,
      "metadata": {
        "colab": {
          "base_uri": "https://localhost:8080/"
        },
        "id": "dr1JrHjEqM1V",
        "outputId": "23bae40f-e793-49cc-ff6b-1262e30b7e32"
      },
      "outputs": [
        {
          "output_type": "stream",
          "name": "stdout",
          "text": [
            "Requirement already satisfied: pyspark in /usr/local/lib/python3.10/dist-packages (3.5.3)\n",
            "Requirement already satisfied: py4j==0.10.9.7 in /usr/local/lib/python3.10/dist-packages (from pyspark) (0.10.9.7)\n",
            "Collecting pyngrok\n",
            "  Downloading pyngrok-7.2.1-py3-none-any.whl.metadata (8.3 kB)\n",
            "Requirement already satisfied: PyYAML>=5.1 in /usr/local/lib/python3.10/dist-packages (from pyngrok) (6.0.2)\n",
            "Downloading pyngrok-7.2.1-py3-none-any.whl (22 kB)\n",
            "Installing collected packages: pyngrok\n",
            "Successfully installed pyngrok-7.2.1\n"
          ]
        }
      ],
      "source": [
        "!pip install pyspark\n",
        "!pip install pyngrok"
      ]
    },
    {
      "cell_type": "code",
      "source": [
        "from pyspark.sql import SparkSession\n",
        "from pyspark.sql import Row\n",
        "from pyngrok import ngrok\n",
        "\n",
        "spark = SparkSession.builder.appName(\"PageRank\").getOrCreate()\n",
        "def parse_line(line):\n",
        "    parts = line.split(\":\")\n",
        "    node = int(parts[0].strip())\n",
        "    links = eval(parts[1].strip())\n",
        "    return (node, links)\n",
        "\n",
        "lines = spark.sparkContext.textFile(\"question3.txt\")\n",
        "graph = lines.map(parse_line).collectAsMap()\n",
        "num_nodes = len(graph)\n",
        "initial_rank = 1.0 / num_nodes\n",
        "ranks = {node: initial_rank for node in graph}\n",
        "damping_factor = 0.85\n",
        "num_iterations = 10\n",
        "for _ in range(num_iterations):\n",
        "    contributions = (\n",
        "        spark.sparkContext.parallelize(graph.items())\n",
        "        .flatMap(lambda x: [(neighbor, ranks[x[0]] / len(x[1])) for neighbor in x[1]])\n",
        "        .reduceByKey(lambda a, b: a + b)\n",
        "    )\n",
        "    ranks = contributions.collectAsMap()\n",
        "    for node in graph.keys():\n",
        "        ranks[node] = (1 - damping_factor) / num_nodes + damping_factor * ranks.get(node, 0)\n",
        "ranks_df = spark.createDataFrame([Row(node=node, rank=rank) for node, rank in ranks.items()])\n",
        "highest_rank_node = ranks_df.orderBy(\"rank\", ascending=False).first()\n",
        "lowest_rank_node = ranks_df.orderBy(\"rank\").first()\n",
        "print(f\"Highest PageRank: {highest_rank_node}\")\n",
        "print(f\"Lowest PageRank: {lowest_rank_node}\")\n",
        "\n",
        "ngrok.set_auth_token(\"2oY32y1o2wSGEJe5t6a6WZAnWxW_7cMg48xpKAosLShJ5LDdX\")\n",
        "public_url = ngrok.connect(4040)\n",
        "print(public_url)\n"
      ],
      "metadata": {
        "colab": {
          "base_uri": "https://localhost:8080/"
        },
        "id": "cuteF6MvqoNV",
        "outputId": "36a1c464-d2ed-4854-9fff-56e3bc5f8d37"
      },
      "execution_count": null,
      "outputs": [
        {
          "output_type": "stream",
          "name": "stderr",
          "text": [
            "WARNING:pyngrok.process.ngrok:t=2024-11-10T20:02:06+0000 lvl=warn msg=\"can't bind default web address, trying alternatives\" obj=web addr=127.0.0.1:4040\n"
          ]
        },
        {
          "output_type": "stream",
          "name": "stdout",
          "text": [
            "Highest PageRank: Row(node=50, rank=0.026800733975577556)\n",
            "Lowest PageRank: Row(node=44, rank=0.0015000000000000002)\n",
            "NgrokTunnel: \"https://8bc0-35-229-224-229.ngrok-free.app\" -> \"http://localhost:4040\"\n"
          ]
        }
      ]
    }
  ]
}